{
 "cells": [
  {
   "cell_type": "markdown",
   "metadata": {},
   "source": [
    "Variables And DataTypes"
   ]
  },
  {
   "cell_type": "code",
   "execution_count": 5,
   "metadata": {},
   "outputs": [
    {
     "name": "stdout",
     "output_type": "stream",
     "text": [
      "Anas Baig\n",
      "50\n",
      "['cricket', 'footBall']\n",
      "7.2\n",
      "('Anas', 'Baig')\n",
      "{'name': 'Anas Baig', 'age': 23}\n"
     ]
    }
   ],
   "source": [
    "name: str = \"Anas Baig\"\n",
    "age: int = 50\n",
    "hobbies: list[str]= [\"cricket\",\"footBall\"]\n",
    "num:float = 7.2\n",
    "tap: tuple = (\"Anas\",\"Baig\")\n",
    "obj:dict = {\"name\":\"Anas Baig\", \"age\":23}\n",
    "print(name)\n",
    "print(age)\n",
    "print(hobbies)\n",
    "print(num)\n",
    "print(tap)\n",
    "print(obj)"
   ]
  }
 ],
 "metadata": {
  "kernelspec": {
   "display_name": "FirstPy",
   "language": "python",
   "name": "python3"
  },
  "language_info": {
   "codemirror_mode": {
    "name": "ipython",
    "version": 3
   },
   "file_extension": ".py",
   "mimetype": "text/x-python",
   "name": "python",
   "nbconvert_exporter": "python",
   "pygments_lexer": "ipython3",
   "version": "3.12.0"
  }
 },
 "nbformat": 4,
 "nbformat_minor": 2
}
