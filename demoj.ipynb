{
 "cells": [
  {
   "cell_type": "markdown",
   "metadata": {},
   "source": [
    "Variables And DataTypes"
   ]
  },
  {
   "cell_type": "code",
   "execution_count": 6,
   "metadata": {},
   "outputs": [
    {
     "name": "stdout",
     "output_type": "stream",
     "text": [
      "2734303471408\n",
      "50\n",
      "['cricket', 'footBall']\n",
      "7.2\n",
      "('Anas', 'Baig')\n",
      "{'name': 'Anas Baig', 'age': 23}\n"
     ]
    }
   ],
   "source": [
    "name: str = \"Anas Baig\"\n",
    "age: int = 50\n",
    "hobbies: list[str]= [\"cricket\",\"footBall\"]\n",
    "num:float = 7.2\n",
    "tap: tuple = (\"Anas\",\"Baig\")\n",
    "obj:dict = {\"name\":\"Anas Baig\", \"age\":23}\n",
    "print(id(name))\n",
    "print(age)\n",
    "print(hobbies)\n",
    "print(num) \n",
    "print(tap)\n",
    "print(obj)"
   ]
  },
  {
   "cell_type": "markdown",
   "metadata": {},
   "source": [
    "Strings Method"
   ]
  },
  {
   "cell_type": "code",
   "execution_count": 11,
   "metadata": {},
   "outputs": [
    {
     "name": "stdout",
     "output_type": "stream",
     "text": [
      "original state anas baig\n",
      "uppercase ANAS BAIG\n",
      "lower case anas baig\n",
      "title Anas Baig\n",
      "capitalize Anas baig\n"
     ]
    }
   ],
   "source": [
    "name1:str = \"anas baig\"\n",
    "print(\"original state\",name1)\n",
    "print(\"uppercase\",name1.upper())\n",
    "print(\"lower case\",name1.lower())\n",
    "print(\"title\",name1.title())\n",
    "print(\"capitalize\",name1.capitalize())"
   ]
  },
  {
   "cell_type": "markdown",
   "metadata": {},
   "source": [
    "Concatinate String"
   ]
  },
  {
   "cell_type": "code",
   "execution_count": 12,
   "metadata": {},
   "outputs": [
    {
     "name": "stdout",
     "output_type": "stream",
     "text": [
      "Anas Baig\n"
     ]
    }
   ],
   "source": [
    "first_name:str = \"Anas\"\n",
    "last_name:str = \"Baig\"\n",
    "full_name:str = f\"{first_name} {last_name}\"\n",
    "print(full_name)"
   ]
  },
  {
   "cell_type": "markdown",
   "metadata": {},
   "source": [
    "Tab Space & New Line"
   ]
  },
  {
   "cell_type": "code",
   "execution_count": 17,
   "metadata": {},
   "outputs": [
    {
     "name": "stdout",
     "output_type": "stream",
     "text": [
      "Hello World \n",
      "How are you\n",
      "Hello World How are you\n",
      "Hello World How are \tyou\n"
     ]
    }
   ],
   "source": [
    "print(\"Hello World \\nHow are you\") #newline\n",
    "print(\"Hello World How are you\")  #normal\n",
    "print(\"Hello World How are \\tyou\")  #Tab Space"
   ]
  }
 ],
 "metadata": {
  "kernelspec": {
   "display_name": "FirstPy",
   "language": "python",
   "name": "python3"
  },
  "language_info": {
   "codemirror_mode": {
    "name": "ipython",
    "version": 3
   },
   "file_extension": ".py",
   "mimetype": "text/x-python",
   "name": "python",
   "nbconvert_exporter": "python",
   "pygments_lexer": "ipython3",
   "version": "3.12.0"
  }
 },
 "nbformat": 4,
 "nbformat_minor": 2
}
