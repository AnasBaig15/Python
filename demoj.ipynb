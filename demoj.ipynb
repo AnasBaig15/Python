{
 "cells": [
  {
   "cell_type": "markdown",
   "metadata": {},
   "source": [
    "Variables And DataTypes"
   ]
  },
  {
   "cell_type": "code",
   "execution_count": 6,
   "metadata": {},
   "outputs": [
    {
     "name": "stdout",
     "output_type": "stream",
     "text": [
      "2734303471408\n",
      "50\n",
      "['cricket', 'footBall']\n",
      "7.2\n",
      "('Anas', 'Baig')\n",
      "{'name': 'Anas Baig', 'age': 23}\n"
     ]
    }
   ],
   "source": [
    "name: str = \"Anas Baig\"\n",
    "age: int = 50\n",
    "hobbies: list[str]= [\"cricket\",\"footBall\"]\n",
    "num:float = 7.2\n",
    "tap: tuple = (\"Anas\",\"Baig\")\n",
    "obj:dict = {\"name\":\"Anas Baig\", \"age\":23}\n",
    "print(id(name))\n",
    "print(age)\n",
    "print(hobbies)\n",
    "print(num) \n",
    "print(tap)\n",
    "print(obj)"
   ]
  },
  {
   "cell_type": "markdown",
   "metadata": {},
   "source": [
    "Strings Method"
   ]
  },
  {
   "cell_type": "code",
   "execution_count": 11,
   "metadata": {},
   "outputs": [
    {
     "name": "stdout",
     "output_type": "stream",
     "text": [
      "original state anas baig\n",
      "uppercase ANAS BAIG\n",
      "lower case anas baig\n",
      "title Anas Baig\n",
      "capitalize Anas baig\n"
     ]
    }
   ],
   "source": [
    "name1:str = \"anas baig\"\n",
    "print(\"original state\",name1)\n",
    "print(\"uppercase\",name1.upper())\n",
    "print(\"lower case\",name1.lower())\n",
    "print(\"title\",name1.title())\n",
    "print(\"capitalize\",name1.capitalize())"
   ]
  },
  {
   "cell_type": "markdown",
   "metadata": {},
   "source": [
    "Concatinate String"
   ]
  },
  {
   "cell_type": "code",
   "execution_count": 12,
   "metadata": {},
   "outputs": [
    {
     "name": "stdout",
     "output_type": "stream",
     "text": [
      "Anas Baig\n"
     ]
    }
   ],
   "source": [
    "first_name:str = \"Anas\"\n",
    "last_name:str = \"Baig\"\n",
    "full_name:str = f\"{first_name} {last_name}\"\n",
    "print(full_name)"
   ]
  },
  {
   "cell_type": "markdown",
   "metadata": {},
   "source": [
    "Tab Space & New Line"
   ]
  },
  {
   "cell_type": "code",
   "execution_count": 17,
   "metadata": {},
   "outputs": [
    {
     "name": "stdout",
     "output_type": "stream",
     "text": [
      "Hello World \n",
      "How are you\n",
      "Hello World How are you\n",
      "Hello World How are \tyou\n"
     ]
    }
   ],
   "source": [
    "print(\"Hello World \\nHow are you\") #newline\n",
    "print(\"Hello World How are you\")  #normal\n",
    "print(\"Hello World How are \\tyou\")  #Tab Space"
   ]
  },
  {
   "cell_type": "markdown",
   "metadata": {},
   "source": [
    "Important Conversation About String and F-String"
   ]
  },
  {
   "cell_type": "markdown",
   "metadata": {},
   "source": [
    "Single Quote"
   ]
  },
  {
   "cell_type": "code",
   "execution_count": 21,
   "metadata": {},
   "outputs": [
    {
     "name": "stdout",
     "output_type": "stream",
     "text": [
      "Anas Baig  Mirza Anas\n"
     ]
    }
   ],
   "source": [
    "a = 'Anas Baig '  +\" \"+ 'Mirza Anas'\n",
    "print(a)"
   ]
  },
  {
   "cell_type": "code",
   "execution_count": 22,
   "metadata": {},
   "outputs": [
    {
     "name": "stdout",
     "output_type": "stream",
     "text": [
      "Hello how are you anas , # \n",
      " I am fine\n"
     ]
    }
   ],
   "source": [
    "a = 'Hello how are you anas , \\\n",
    "# \\n I am fine'\n",
    "print(a)"
   ]
  },
  {
   "cell_type": "code",
   "execution_count": 24,
   "metadata": {},
   "outputs": [
    {
     "name": "stdout",
     "output_type": "stream",
     "text": [
      "Hello Anas baig, anas baig father's name Qayyum Baig\n"
     ]
    }
   ],
   "source": [
    "a = 'Hello Anas baig, anas baig father\\'s name Qayyum Baig'\n",
    "print(a)"
   ]
  },
  {
   "cell_type": "markdown",
   "metadata": {},
   "source": [
    "Double Quote"
   ]
  },
  {
   "cell_type": "code",
   "execution_count": 25,
   "metadata": {},
   "outputs": [
    {
     "name": "stdout",
     "output_type": "stream",
     "text": [
      "Mirza Anas\n"
     ]
    }
   ],
   "source": [
    "a = \"Mirza Anas\"\n",
    "print(a)"
   ]
  },
  {
   "cell_type": "code",
   "execution_count": 26,
   "metadata": {},
   "outputs": [
    {
     "name": "stdout",
     "output_type": "stream",
     "text": [
      "Mirza Anas Qayyum Baig\n"
     ]
    }
   ],
   "source": [
    "a = \"Mirza Anas\" + \" \" + \"Qayyum Baig\"\n",
    "print(a)"
   ]
  },
  {
   "cell_type": "code",
   "execution_count": 27,
   "metadata": {},
   "outputs": [
    {
     "name": "stdout",
     "output_type": "stream",
     "text": [
      "Hello Anas how are you what's your father name\n"
     ]
    }
   ],
   "source": [
    "a = \"Hello Anas how are you what's your father name\"\n",
    "print(a)"
   ]
  },
  {
   "cell_type": "code",
   "execution_count": 32,
   "metadata": {},
   "outputs": [
    {
     "name": "stdout",
     "output_type": "stream",
     "text": [
      "Hello Anas,     How are you,         I am Fine\n"
     ]
    }
   ],
   "source": [
    "a = \"Hello Anas, \\\n",
    "    How are you, \\\n",
    "        I am Fine\"\n",
    "print(a)"
   ]
  },
  {
   "cell_type": "code",
   "execution_count": 33,
   "metadata": {},
   "outputs": [
    {
     "name": "stdout",
     "output_type": "stream",
     "text": [
      "Hello Anas,     \n",
      "How are you,        \n",
      "\t I am Fine\n"
     ]
    }
   ],
   "source": [
    "a = \"Hello Anas, \\\n",
    "    \\nHow are you, \\\n",
    "       \\n\\t I am Fine\"\n",
    "print(a)"
   ]
  },
  {
   "cell_type": "markdown",
   "metadata": {},
   "source": [
    "Three Quote"
   ]
  },
  {
   "cell_type": "code",
   "execution_count": 35,
   "metadata": {},
   "outputs": [
    {
     "name": "stdout",
     "output_type": "stream",
     "text": [
      "\n",
      "Hello Anas,\n",
      "How are you,\n",
      "I am fine,\n",
      "Mirza Anas\n",
      "\n"
     ]
    }
   ],
   "source": [
    "a = '''\n",
    "Hello Anas,\n",
    "How are you,\n",
    "I am fine,\n",
    "Mirza Anas\n",
    "'''\n",
    "print(a)"
   ]
  },
  {
   "cell_type": "code",
   "execution_count": 36,
   "metadata": {},
   "outputs": [
    {
     "name": "stdout",
     "output_type": "stream",
     "text": [
      "Hello Anas,\n",
      "How are you,\n",
      "I am fine,\n",
      "Mirza Anas\n"
     ]
    }
   ],
   "source": [
    "a  = \"\"\"Hello Anas,\n",
    "How are you,\n",
    "I am fine,\n",
    "Mirza Anas\"\"\"\n",
    "print(a)"
   ]
  },
  {
   "cell_type": "code",
   "execution_count": null,
   "metadata": {},
   "outputs": [],
   "source": [
    "F-String"
   ]
  },
  {
   "cell_type": "code",
   "execution_count": 38,
   "metadata": {},
   "outputs": [
    {
     "name": "stdout",
     "output_type": "stream",
     "text": [
      "My name is Anas Baig, my age is 25, my hobby is Playing Cricket\n"
     ]
    }
   ],
   "source": [
    "name = \"Anas Baig\"\n",
    "edu = 10\n",
    "hobby = \"Playing Cricket\"\n",
    "\n",
    "detail = f\"My name is {name}, my age is {20+5}, my hobby is {hobby}\"\n",
    "print(detail)"
   ]
  },
  {
   "cell_type": "code",
   "execution_count": 39,
   "metadata": {},
   "outputs": [
    {
     "name": "stdout",
     "output_type": "stream",
     "text": [
      "Anas Baig\n"
     ]
    }
   ],
   "source": [
    "f_name = \"Anas\"\n",
    "l_name = \"Baig\"\n",
    "print(f\"{f_name} {l_name}\")"
   ]
  },
  {
   "cell_type": "markdown",
   "metadata": {},
   "source": [
    "format() Method in Python"
   ]
  },
  {
   "cell_type": "code",
   "execution_count": 44,
   "metadata": {},
   "outputs": [
    {
     "name": "stdout",
     "output_type": "stream",
     "text": [
      "I am           Anas           , My age is 20, My Hobby is Football.\n"
     ]
    }
   ],
   "source": [
    "words = \"I am {name:^25}, My age is {age}, My Hobby is {game}.\".format(name=\"Anas\", age=20, game=\"Football\")\n",
    "print(words)"
   ]
  },
  {
   "cell_type": "markdown",
   "metadata": {},
   "source": [
    "Number Methods "
   ]
  },
  {
   "cell_type": "code",
   "execution_count": null,
   "metadata": {},
   "outputs": [],
   "source": []
  }
 ],
 "metadata": {
  "kernelspec": {
   "display_name": "FirstPy",
   "language": "python",
   "name": "python3"
  },
  "language_info": {
   "codemirror_mode": {
    "name": "ipython",
    "version": 3
   },
   "file_extension": ".py",
   "mimetype": "text/x-python",
   "name": "python",
   "nbconvert_exporter": "python",
   "pygments_lexer": "ipython3",
   "version": "3.12.0"
  }
 },
 "nbformat": 4,
 "nbformat_minor": 2
}
